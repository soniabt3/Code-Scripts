{
  "cells": [
    {
      "cell_type": "markdown",
      "metadata": {
        "id": "MzZ4dJQYF7sH"
      },
      "source": [
        "# Artificial and Computational Intelligence Assignment 1"
      ]
    },
    {
      "cell_type": "markdown",
      "metadata": {
        "id": "Fxb1aE9zF7sK"
      },
      "source": [
        "## Problem solving by Uninformed & Informed Search"
      ]
    },
    {
      "cell_type": "markdown",
      "metadata": {
        "id": "h35jIBbCF7sK"
      },
      "source": [
        "List only the BITS (Name) of active contributors in this assignment:\n",
        "\n",
        "1.AADITI MILIND PIMPLEY\n",
        "\n",
        "2.VIKAS MOHAN THAPLIYAL\n",
        "\n",
        "3.SUDHAGANI VANDANA\n",
        "\n",
        "4.THRUSHIKA.S\n",
        "\n",
        "5.SONIA BENNY THOMAS"
      ]
    },
    {
      "cell_type": "markdown",
      "metadata": {
        "id": "pt5ygv_zF7sL"
      },
      "source": [
        "Things to follow\n",
        "1.\tUse appropriate data structures to represent the graph and the path using python libraries\n",
        "2.\tProvide proper documentation\n",
        "3.\tFind the path and print it"
      ]
    },
    {
      "cell_type": "markdown",
      "metadata": {
        "id": "wZfop5ElF7sL"
      },
      "source": [
        "Coding begins here"
      ]
    },
    {
      "cell_type": "markdown",
      "metadata": {
        "id": "IL0QDMy3F7sL"
      },
      "source": [
        "### 1.\tDefine the environment in the following block"
      ]
    },
    {
      "cell_type": "markdown",
      "metadata": {
        "id": "RYwJPNLIF7sM"
      },
      "source": [
        "List the PEAS decription of the problem here in this markdown block\n",
        "\n",
        "### PEAS Description\n",
        "\n",
        "- **Performance Measure**: The agent should find the shortest and safest path from the office to home while considering penalties for diagonal movement, proximity to buildings, and road blocks.\n",
        "- **Environment**: The environment is a grid representing a city with buildings, roadblocks, and blank spaces. The grid also includes the office and home locations.\n",
        "- **Actuator**: The actuators are the movements in the grid: moving up, down, left, right, or diagonally with penalties.\n",
        "- **Sensor**: The sensors detect the type of grid cell (empty, building, roadblock) and the current location in the grid.\n",
        "\n"
      ]
    },
    {
      "cell_type": "markdown",
      "metadata": {
        "id": "XJ3cHp1IF7sM"
      },
      "source": [
        "Design the agent as PSA Agent(Problem Solving Agent)\n",
        "Clear Initial data structures to define the graph and variable declarations is expected\n",
        "IMPORTATANT: Write distinct code block as below"
      ]
    },
    {
      "cell_type": "code",
      "execution_count": 1,
      "metadata": {
        "id": "osp61RsLF7sN"
      },
      "outputs": [],
      "source": [
        "#Code Block : Set Initial State (Must handle dynamic inputs)\n",
        "import numpy as np\n",
        "\n",
        "def initialize_state():\n",
        "    while True:\n",
        "        try:\n",
        "            rows = int(input(\"Enter the number of rows in the grid: \"))\n",
        "            cols = int(input(\"Enter the number of columns in the grid: \"))\n",
        "\n",
        "            if rows <= 0 or cols <= 0:\n",
        "                print(\"Grid dimensions must be positive integers.\")\n",
        "                continue\n",
        "\n",
        "            grid = np.zeros((rows, cols), dtype=int)\n",
        "\n",
        "            print(\"Enter the grid matrix (0 for empty, 1 for building, 2 for road block):\")\n",
        "            for i in range(rows):\n",
        "                row = list(map(int, input(f\"Row {i + 1}: \").strip().split()))\n",
        "                if len(row) != cols:\n",
        "                    print(\"The number of columns does not match the grid width.\")\n",
        "                    return None\n",
        "                grid[i] = row\n",
        "\n",
        "            return grid\n",
        "        except ValueError:\n",
        "            print(\"Invalid input. Please enter integers only.\")\n"
      ]
    },
    {
      "cell_type": "code",
      "execution_count": 2,
      "metadata": {
        "id": "XODwoWZ0F7sO"
      },
      "outputs": [],
      "source": [
        "#Code Block : Set the matrix for transition & cost (as relevant for the given problem)\n",
        "def set_transition_and_cost_matrix(grid):\n",
        "    rows, cols = grid.shape\n",
        "    cost_matrix = np.full((rows, cols), np.inf)\n",
        "\n",
        "    for i in range(rows):\n",
        "        for j in range(cols):\n",
        "            if grid[i, j] == 1 or grid[i, j] == 2:\n",
        "                cost_matrix[i, j] = np.inf\n",
        "            else:\n",
        "                cost_matrix[i, j] = 1  # Default cost for moving to an empty cell\n",
        "\n",
        "    return cost_matrix\n"
      ]
    },
    {
      "cell_type": "code",
      "execution_count": 3,
      "metadata": {
        "id": "ro24Gaj7F7sO"
      },
      "outputs": [],
      "source": [
        "#Code Block : Write function to design the Transition Model/Successor function. Ideally this would be called while search algorithms are implemented\n",
        "def get_successors(state, grid, cost_matrix):\n",
        "    rows, cols = grid.shape\n",
        "    x, y = state\n",
        "    successors = []\n",
        "    moves = [(-1, 0), (1, 0), (0, -1), (0, 1)]  # Up, Down, Left, Right\n",
        "\n",
        "    for dx, dy in moves:\n",
        "        nx, ny = x + dx, y + dy\n",
        "        if 0 <= nx < rows and 0 <= ny < cols and grid[nx, ny] != 1 and grid[nx, ny] != 2:\n",
        "            cost = cost_matrix[nx, ny]\n",
        "            if (nx, ny) != (x, y):\n",
        "                successors.append(((nx, ny), cost))\n",
        "\n",
        "    return successors\n"
      ]
    },
    {
      "cell_type": "code",
      "execution_count": 4,
      "metadata": {
        "id": "HIVPhrRWF7sO"
      },
      "outputs": [],
      "source": [
        "#Code block : Write fucntion to handle goal test (Must handle dynamic inputs). Ideally this would be called while search algorithms are implemented\n",
        "def is_goal_state(state, goal):\n",
        "    return state == goal\n"
      ]
    },
    {
      "cell_type": "markdown",
      "metadata": {
        "id": "Z4QwDeX5F7sO"
      },
      "source": [
        "### 2.\tDefinition of Algorithm 1 (Mention the Name of the algorithm here)"
      ]
    },
    {
      "cell_type": "code",
      "execution_count": 5,
      "metadata": {
        "id": "zD_EPCHWF7sO"
      },
      "outputs": [],
      "source": [
        "#Code Block : Function for algorithm 1 implementation\n",
        "import heapq\n",
        "\n",
        "def rbfs(start, goal, grid, cost_matrix):\n",
        "    def rbfs_recursive(node, g, f, heap, came_from):\n",
        "        if is_goal_state(node, goal):\n",
        "            return [node], g\n",
        "\n",
        "        successors = get_successors(node, grid, cost_matrix)\n",
        "        for (succ, cost) in successors:\n",
        "            h = np.abs(succ[0] - goal[0]) + np.abs(succ[1] - goal[1])\n",
        "            f = g + cost + h\n",
        "            heapq.heappush(heap, (f, succ, g + cost))\n",
        "\n",
        "        if not heap:\n",
        "            return [], float('inf')\n",
        "\n",
        "        _, current, g = heapq.heappop(heap)\n",
        "        path, cost = rbfs_recursive(current, g, float('inf'), heap, came_from)\n",
        "        return [node] + path, cost\n",
        "\n",
        "    heap = []\n",
        "    heapq.heappush(heap, (np.abs(start[0] - goal[0]) + np.abs(start[1] - goal[1]), start, 0))\n",
        "    path, cost = rbfs_recursive(start, 0, float('inf'), heap, {})\n",
        "    return path, cost\n"
      ]
    },
    {
      "cell_type": "markdown",
      "metadata": {
        "id": "KnbdDl6HF7sO"
      },
      "source": [
        "### 3.\tDefinition of Algorithm 2 (Mention the Name of the algorithm here)"
      ]
    },
    {
      "cell_type": "code",
      "execution_count": 6,
      "metadata": {
        "id": "3HYh7-eJF7sP"
      },
      "outputs": [],
      "source": [
        "#Code Block : Function for algorithm 2 implementation\n",
        "def ucs(start, goal, grid, cost_matrix):\n",
        "    from heapq import heappop, heappush\n",
        "\n",
        "    rows, cols = grid.shape\n",
        "    open_set = []\n",
        "    heappush(open_set, (0, start))\n",
        "    came_from = {}\n",
        "    g_score = {start: 0}\n",
        "\n",
        "    while open_set:\n",
        "        current_cost, current = heappop(open_set)\n",
        "\n",
        "        if is_goal_state(current, goal):\n",
        "            path = []\n",
        "            while current in came_from:\n",
        "                path.append(current)\n",
        "                current = came_from[current]\n",
        "            path.append(start)\n",
        "            path.reverse()\n",
        "            return path, g_score[goal]\n",
        "\n",
        "        for (neighbor, move_cost) in get_successors(current, grid, cost_matrix):\n",
        "            tentative_g_score = g_score[current] + move_cost\n",
        "            if neighbor not in g_score or tentative_g_score < g_score[neighbor]:\n",
        "                g_score[neighbor] = tentative_g_score\n",
        "                f_score = tentative_g_score\n",
        "                heappush(open_set, (f_score, neighbor))\n",
        "                came_from[neighbor] = current\n",
        "\n",
        "    return [], float('inf')\n"
      ]
    },
    {
      "cell_type": "markdown",
      "metadata": {
        "id": "LEV2XHccF7sP"
      },
      "source": [
        "### DYNAMIC INPUT"
      ]
    },
    {
      "cell_type": "markdown",
      "metadata": {
        "id": "CylYRo_DF7sP"
      },
      "source": [
        "IMPORTANT : Dynamic Input must be got in this section. Display the possible states to choose from:\n",
        "This is applicable for all the relevent problems as mentioned in the question."
      ]
    },
    {
      "cell_type": "code",
      "execution_count": 7,
      "metadata": {
        "id": "Q5t1Lc-wF7sP"
      },
      "outputs": [],
      "source": [
        "#Code Block : Function & call to get inputs (start/end state)\n",
        "def get_dynamic_state(prompt, grid):\n",
        "    while True:\n",
        "        try:\n",
        "            x = int(input(f\"{prompt} - Enter x-coordinate (0 to {grid.shape[0] - 1}): \"))\n",
        "            y = int(input(f\"{prompt} - Enter y-coordinate (0 to {grid.shape[1] - 1}): \"))\n",
        "            if 0 <= x < grid.shape[0] and 0 <= y < grid.shape[1]:\n",
        "                if grid[x, y] != 1 and grid[x, y] != 2:\n",
        "                    return (x, y)\n",
        "                else:\n",
        "                    print(\"Invalid position. The cell is blocked or occupied by a building.\")\n",
        "            else:\n",
        "                print(\"Invalid input. Please enter values within the grid bounds.\")\n",
        "        except ValueError:\n",
        "            print(\"Invalid input. Please enter integers only.\")\n"
      ]
    },
    {
      "cell_type": "markdown",
      "metadata": {
        "id": "xsfOP81lF7sP"
      },
      "source": [
        "### 4.\tCalling the search algorithms\n",
        "(For bidirectional search in below sections first part can be used as per Hint provided. Under second section other combinations as per Hint or your choice of 2 algorithms can be called .As an analyst suggest suitable approximation in the comparitive analysis section)"
      ]
    },
    {
      "cell_type": "code",
      "execution_count": 12,
      "metadata": {
        "id": "Og5zI9thF7sP",
        "colab": {
          "base_uri": "https://localhost:8080/"
        },
        "outputId": "a4010352-e642-46d3-eaf3-6c25509b6a54"
      },
      "outputs": [
        {
          "output_type": "stream",
          "name": "stdout",
          "text": [
            "Enter the number of rows in the grid: 5\n",
            "Enter the number of columns in the grid: 5\n",
            "Enter the grid matrix (0 for empty, 1 for building, 2 for road block):\n",
            "Row 1: 0 1 2 1 1 \n",
            "Row 2: 0 0 0 0 0 \n",
            "Row 3: 1 0 1 2 0\n",
            "Row 4: 2 0 0 0 1\n",
            "Row 5: 2 0 0 1 0\n",
            "Start position - Enter x-coordinate (0 to 4): 1\n",
            "Start position - Enter y-coordinate (0 to 4): 1\n",
            "Goal position - Enter x-coordinate (0 to 4): 5\n",
            "Goal position - Enter y-coordinate (0 to 4): 3\n",
            "Invalid input. Please enter values within the grid bounds.\n",
            "Goal position - Enter x-coordinate (0 to 4): 4\n",
            "Goal position - Enter y-coordinate (0 to 4): 2\n",
            "RBFS Path: [(1, 1), (1, 1), (1, 2), (1, 2), (2, 1), (2, 1), (3, 1), (3, 1), (3, 2), (3, 2), (4, 1), (4, 1), (4, 2)]\n",
            "RBFS Total Cost: 4.0\n"
          ]
        }
      ],
      "source": [
        "#Invoke algorithm 1 (Should Print the solution, path, cost etc., (As mentioned in the problem))\n",
        "# Main execution\n",
        "if __name__ == \"__main__\":\n",
        "    # Initialize the grid\n",
        "    grid = initialize_state()\n",
        "if grid is not None:\n",
        "    start = get_dynamic_state(\"Start position\", grid)\n",
        "    goal = get_dynamic_state(\"Goal position\", grid)\n",
        "    cost_matrix = set_transition_and_cost_matrix(grid)\n",
        "    path, cost = rbfs(start, goal, grid, cost_matrix)\n",
        "    print(\"RBFS Path:\", path)\n",
        "    print(\"RBFS Total Cost:\", cost)\n"
      ]
    },
    {
      "cell_type": "code",
      "execution_count": 13,
      "metadata": {
        "id": "u3MJeA6eF7sP",
        "colab": {
          "base_uri": "https://localhost:8080/"
        },
        "outputId": "7bd4ed75-949b-4e48-b13a-64c86794168d"
      },
      "outputs": [
        {
          "output_type": "stream",
          "name": "stdout",
          "text": [
            "Enter the number of rows in the grid: 5\n",
            "Enter the number of columns in the grid: 5\n",
            "Enter the grid matrix (0 for empty, 1 for building, 2 for road block):\n",
            "Row 1: 0 1 2 1 1\n",
            "Row 2: 0 0 0 0 0\n",
            "Row 3: 1 0 1 2 0\n",
            "Row 4: 2 0 0 0 1\n",
            "Row 5: 2 0 0 1 0\n",
            "Start position - Enter x-coordinate (0 to 4): 1\n",
            "Start position - Enter y-coordinate (0 to 4): 1\n",
            "Goal position - Enter x-coordinate (0 to 4): 4\n",
            "Goal position - Enter y-coordinate (0 to 4): 2\n",
            "UCS Path: [(1, 1), (2, 1), (3, 1), (3, 2), (4, 2)]\n",
            "UCS Total Cost: 4.0\n"
          ]
        }
      ],
      "source": [
        "#Invoke algorithm 2 (Should Print the solution, path, cost etc., (As mentioned in the problem))\n",
        "if __name__ == \"__main__\":\n",
        "    # Initialize the grid\n",
        "    grid = initialize_state()\n",
        "if grid is not None:\n",
        "    start = get_dynamic_state(\"Start position\", grid)\n",
        "    goal = get_dynamic_state(\"Goal position\", grid)\n",
        "    cost_matrix = set_transition_and_cost_matrix(grid)\n",
        "    path, cost = ucs(start, goal, grid, cost_matrix)\n",
        "    print(\"UCS Path:\", path)\n",
        "    print(\"UCS Total Cost:\", cost)\n"
      ]
    },
    {
      "cell_type": "markdown",
      "metadata": {
        "id": "TOU3Rem6F7sQ"
      },
      "source": [
        "### 5.\tComparitive Analysis"
      ]
    },
    {
      "cell_type": "code",
      "execution_count": 30,
      "metadata": {
        "id": "HG6fWwiIF7sQ",
        "colab": {
          "base_uri": "https://localhost:8080/"
        },
        "outputId": "11a41e7e-405f-45f8-d655-a3b181432719"
      },
      "outputs": [
        {
          "output_type": "stream",
          "name": "stdout",
          "text": [
            "RBFS Time Complexity O(b^d) : 1   where b = {b} and d = {d}\n",
            "RBFS Space Complexity O(b * d) : 3   where b = {b} and d = {d}\n"
          ]
        }
      ],
      "source": [
        "#Code Block : Print the Time & Space complexity of algorithm 1\n",
        "# b = branching factor, d = depth of the solution\n",
        "\n",
        "b = len(get_successors((0, 0), grid, set_transition_and_cost_matrix(grid)))  # Max branching factor from the start node\n",
        "d = np.max([np.abs(goal[0] - start[0]), np.abs(goal[1] - start[1])])  # Maximum depth in the grid\n",
        "m = grid.size  # Number of cells in the grid\n",
        "Time_Complexity=pow(b,d)\n",
        "Space_Complexity=b*d\n",
        "print(\"RBFS Time Complexity O(b^d) :\",Time_Complexity,\"  where b = {b} and d = {d}\")\n",
        "print(\"RBFS Space Complexity O(b * d) :\",Space_Complexity,\"  where b = {b} and d = {d}\")\n"
      ]
    },
    {
      "cell_type": "code",
      "execution_count": 31,
      "metadata": {
        "id": "xMButLKCF7sQ",
        "colab": {
          "base_uri": "https://localhost:8080/"
        },
        "outputId": "3acd8219-baaf-4340-eba4-b7ebf9ccefd8"
      },
      "outputs": [
        {
          "output_type": "stream",
          "name": "stdout",
          "text": [
            "UCS Space Complexity O(b^d): 1   where b = {b} and d = {d}\n",
            "UCS Time Complexity O(b^d): 1  where b = {b} and d = {d}\n"
          ]
        }
      ],
      "source": [
        "#Code Block : Print the Time & Space complexity of algorithm 2\n",
        "# b = branching factor, d = depth of the solution\n",
        "\n",
        "b = len(get_successors((0, 0), grid, set_transition_and_cost_matrix(grid)))  # Max branching factor from the start node\n",
        "d = np.max([np.abs(goal[0] - start[0]), np.abs(goal[1] - start[1])])  # Maximum depth in the grid\n",
        "m = grid.size  # Number of cells in the grid\n",
        "Complexity=pow(b,d)\n",
        "\n",
        "\n",
        "print(f\"UCS Space Complexity O(b^d):\",Complexity,\"  where b = {b} and d = {d}\")\n",
        "print(f\"UCS Time Complexity O(b^d):\",Complexity,\" where b = {b} and d = {d}\")"
      ]
    },
    {
      "cell_type": "markdown",
      "metadata": {
        "id": "y2nXwAlsF7sQ"
      },
      "source": [
        "### 6.\tProvide your comparitive analysis or findings in no more than 3 lines in below section"
      ]
    },
    {
      "cell_type": "markdown",
      "metadata": {
        "id": "si483-zoF7sQ"
      },
      "source": [
        "Comparison : Uniform Cost Search (UCS) ensures optimal solutions with O(b^d) time and space complexity due to storing all nodes. Recursive Best-First Search (RBFS) reduces space complexity to O(b*d) by only tracking the current path and recursion stack, though it can have similar time complexity due to extensive node exploration."
      ]
    }
  ],
  "metadata": {
    "colab": {
      "provenance": []
    },
    "kernelspec": {
      "display_name": "Python 3 (ipykernel)",
      "language": "python",
      "name": "python3"
    },
    "language_info": {
      "codemirror_mode": {
        "name": "ipython",
        "version": 3
      },
      "file_extension": ".py",
      "mimetype": "text/x-python",
      "name": "python",
      "nbconvert_exporter": "python",
      "pygments_lexer": "ipython3",
      "version": "3.9.13"
    }
  },
  "nbformat": 4,
  "nbformat_minor": 0
}