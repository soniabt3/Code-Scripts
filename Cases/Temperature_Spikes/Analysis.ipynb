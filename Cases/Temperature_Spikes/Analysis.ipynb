{
 "cells": [
  {
   "cell_type": "markdown",
   "id": "27f263ee",
   "metadata": {},
   "source": [
    "# Importing Librabries"
   ]
  },
  {
   "cell_type": "code",
   "execution_count": 1,
   "id": "e8d66767",
   "metadata": {},
   "outputs": [],
   "source": [
    "import numpy as np\n",
    "import pandas as pd\n",
    "import matplotlib.pyplot as plt\n",
    "import re"
   ]
  },
  {
   "cell_type": "markdown",
   "id": "c3b4940d",
   "metadata": {},
   "source": [
    "# Reading Dataset"
   ]
  },
  {
   "cell_type": "code",
   "execution_count": 2,
   "id": "2414df14",
   "metadata": {},
   "outputs": [],
   "source": [
    "dataset = pd.read_csv('dataset.csv')"
   ]
  },
  {
   "cell_type": "markdown",
   "id": "00b731d2",
   "metadata": {},
   "source": [
    "# First Look at the Data"
   ]
  },
  {
   "cell_type": "code",
   "execution_count": 3,
   "id": "817668c8",
   "metadata": {},
   "outputs": [
    {
     "data": {
      "text/html": [
       "<div>\n",
       "<style scoped>\n",
       "    .dataframe tbody tr th:only-of-type {\n",
       "        vertical-align: middle;\n",
       "    }\n",
       "\n",
       "    .dataframe tbody tr th {\n",
       "        vertical-align: top;\n",
       "    }\n",
       "\n",
       "    .dataframe thead th {\n",
       "        text-align: right;\n",
       "    }\n",
       "</style>\n",
       "<table border=\"1\" class=\"dataframe\">\n",
       "  <thead>\n",
       "    <tr style=\"text-align: right;\">\n",
       "      <th></th>\n",
       "      <th>YEAR</th>\n",
       "      <th>ANNUAL</th>\n",
       "      <th>Unnamed: 2</th>\n",
       "      <th>JAN-FEB</th>\n",
       "      <th>Unnamed: 4</th>\n",
       "      <th>MAR-MAY</th>\n",
       "      <th>Unnamed: 6</th>\n",
       "      <th>JUN-SEP</th>\n",
       "      <th>Unnamed: 8</th>\n",
       "      <th>OCT-DEC</th>\n",
       "      <th>Unnamed: 10</th>\n",
       "    </tr>\n",
       "  </thead>\n",
       "  <tbody>\n",
       "    <tr>\n",
       "      <th>0</th>\n",
       "      <td>YEAR</td>\n",
       "      <td>MIN</td>\n",
       "      <td>MAX</td>\n",
       "      <td>MIN</td>\n",
       "      <td>MAX</td>\n",
       "      <td>MIN</td>\n",
       "      <td>MAX</td>\n",
       "      <td>MIN</td>\n",
       "      <td>MAX</td>\n",
       "      <td>MIN</td>\n",
       "      <td>MAX</td>\n",
       "    </tr>\n",
       "    <tr>\n",
       "      <th>1</th>\n",
       "      <td>1901</td>\n",
       "      <td>20.55</td>\n",
       "      <td>30.29</td>\n",
       "      <td>15.11</td>\n",
       "      <td>25.1</td>\n",
       "      <td>21.99</td>\n",
       "      <td>33.29</td>\n",
       "      <td>24.32</td>\n",
       "      <td>32</td>\n",
       "      <td>17.73</td>\n",
       "      <td>28.48</td>\n",
       "    </tr>\n",
       "    <tr>\n",
       "      <th>2</th>\n",
       "      <td>1902</td>\n",
       "      <td>20.45</td>\n",
       "      <td>30.4</td>\n",
       "      <td>14.61</td>\n",
       "      <td>27.14</td>\n",
       "      <td>22.43</td>\n",
       "      <td>33.49</td>\n",
       "      <td>24.24</td>\n",
       "      <td>31.73</td>\n",
       "      <td>17.31</td>\n",
       "      <td>27.71</td>\n",
       "    </tr>\n",
       "    <tr>\n",
       "      <th>3</th>\n",
       "      <td>1903</td>\n",
       "      <td>20.13</td>\n",
       "      <td>29.88</td>\n",
       "      <td>14.3</td>\n",
       "      <td>25.68</td>\n",
       "      <td>21.33</td>\n",
       "      <td>32.72</td>\n",
       "      <td>24.37</td>\n",
       "      <td>31.64</td>\n",
       "      <td>17.16</td>\n",
       "      <td>27.51</td>\n",
       "    </tr>\n",
       "    <tr>\n",
       "      <th>4</th>\n",
       "      <td>1904</td>\n",
       "      <td>20.06</td>\n",
       "      <td>29.8</td>\n",
       "      <td>13.99</td>\n",
       "      <td>25.53</td>\n",
       "      <td>21.8</td>\n",
       "      <td>32.67</td>\n",
       "      <td>23.87</td>\n",
       "      <td>31.27</td>\n",
       "      <td>17.29</td>\n",
       "      <td>27.83</td>\n",
       "    </tr>\n",
       "  </tbody>\n",
       "</table>\n",
       "</div>"
      ],
      "text/plain": [
       "   YEAR ANNUAL Unnamed: 2 JAN-FEB Unnamed: 4 MAR-MAY Unnamed: 6 JUN-SEP  \\\n",
       "0  YEAR    MIN        MAX     MIN        MAX     MIN        MAX     MIN   \n",
       "1  1901  20.55      30.29   15.11       25.1   21.99      33.29   24.32   \n",
       "2  1902  20.45       30.4   14.61      27.14   22.43      33.49   24.24   \n",
       "3  1903  20.13      29.88    14.3      25.68   21.33      32.72   24.37   \n",
       "4  1904  20.06       29.8   13.99      25.53    21.8      32.67   23.87   \n",
       "\n",
       "  Unnamed: 8 OCT-DEC Unnamed: 10  \n",
       "0        MAX     MIN         MAX  \n",
       "1         32   17.73       28.48  \n",
       "2      31.73   17.31       27.71  \n",
       "3      31.64   17.16       27.51  \n",
       "4      31.27   17.29       27.83  "
      ]
     },
     "execution_count": 3,
     "metadata": {},
     "output_type": "execute_result"
    }
   ],
   "source": [
    "#Printing the first 5 columns\\\n",
    "dataset.head(5)"
   ]
  },
  {
   "cell_type": "markdown",
   "id": "6b05ecf0",
   "metadata": {},
   "source": [
    "The first thing we notice in the dataset is that the headers seem off. Looks like we might need to combine the header along with the first row to get the detailed header. This will make things easier as we continue to work on the dataset.\n",
    "\n",
    "The rest of the data is pretty simple.\n",
    "The first column contains the year - Followed by the minimum and maximum Annual Temperture. \n",
    "The remaining columns are the minimum and maximum temperature but broken over the months instead. \n",
    "The month grouping seems to be roughly based on the seasons seen in India. "
   ]
  },
  {
   "cell_type": "code",
   "execution_count": 4,
   "id": "fca580e5",
   "metadata": {},
   "outputs": [
    {
     "name": "stdout",
     "output_type": "stream",
     "text": [
      "The original headers are:  ['ANNUAL', 'Unnamed: 2', 'JAN-FEB', 'Unnamed: 4', 'MAR-MAY', 'Unnamed: 6', 'JUN-SEP', 'Unnamed: 8', 'OCT-DEC', 'Unnamed: 10']\n",
      "\n",
      "The first row values are:  ['MIN', 'MAX', 'MIN', 'MAX', 'MIN', 'MAX', 'MIN', 'MAX', 'MIN', 'MAX']\n",
      "\n",
      "The combined lists are:  ['ANNUAL MIN', 'Unnamed: 2 MAX', 'JAN-FEB MIN', 'Unnamed: 4 MAX', 'MAR-MAY MIN', 'Unnamed: 6 MAX', 'JUN-SEP MIN', 'Unnamed: 8 MAX', 'OCT-DEC MIN', 'Unnamed: 10 MAX']\n",
      "\n",
      "The formatted lists are:  ['YEAR', 'ANNUAL MIN', 'ANNUAL MAX', 'JAN-FEB MIN', 'JAN-FEB MAX', 'MAR-MAY MIN', 'MAR-MAY MAX', 'JUN-SEP MIN', 'JUN-SEP MAX', 'OCT-DEC MIN', 'OCT-DEC MAX']\n",
      "\n"
     ]
    }
   ],
   "source": [
    "#Fixing the header names \n",
    "\n",
    "#Part 1: Getting all the current column names except the first\n",
    "a = dataset.columns[1:].to_list()\n",
    "print(\"The original headers are: \",a)\n",
    "print(\"\")\n",
    "\n",
    "#Part 2: Getting all the first row values except the first \n",
    "b = dataset.iloc[0][1:].to_list()\n",
    "print(\"The first row values are: \",b)\n",
    "print(\"\")\n",
    "\n",
    "#Part 3: Concantenating Both Lists\n",
    "c = [ a[x]+ \" \" + b[x] for x in range(len(a))]\n",
    "print(\"The combined lists are: \",c)\n",
    "print(\"\")\n",
    "\n",
    "#Part 4: Cleaning up the column nanmes \n",
    "d = ['YEAR'] + [ re.sub(r'[0-9]','',c[x].replace('Unnamed: ',c[x-1].split(' ')[0])) for x in range(len(c))]\n",
    "print(\"The formatted lists are: \",d)\n",
    "print(\"\")\n",
    "\n",
    "#Part 5: Assigning it back to the dataset\n",
    "dataset.columns = d\n",
    "\n",
    "#Dropping the first row of the dataset\n",
    "dataset = dataset.iloc[1:,]"
   ]
  },
  {
   "cell_type": "code",
   "execution_count": 5,
   "id": "4960229e",
   "metadata": {},
   "outputs": [
    {
     "data": {
      "text/html": [
       "<div>\n",
       "<style scoped>\n",
       "    .dataframe tbody tr th:only-of-type {\n",
       "        vertical-align: middle;\n",
       "    }\n",
       "\n",
       "    .dataframe tbody tr th {\n",
       "        vertical-align: top;\n",
       "    }\n",
       "\n",
       "    .dataframe thead th {\n",
       "        text-align: right;\n",
       "    }\n",
       "</style>\n",
       "<table border=\"1\" class=\"dataframe\">\n",
       "  <thead>\n",
       "    <tr style=\"text-align: right;\">\n",
       "      <th></th>\n",
       "      <th>YEAR</th>\n",
       "      <th>ANNUAL MIN</th>\n",
       "      <th>ANNUAL MAX</th>\n",
       "      <th>JAN-FEB MIN</th>\n",
       "      <th>JAN-FEB MAX</th>\n",
       "      <th>MAR-MAY MIN</th>\n",
       "      <th>MAR-MAY MAX</th>\n",
       "      <th>JUN-SEP MIN</th>\n",
       "      <th>JUN-SEP MAX</th>\n",
       "      <th>OCT-DEC MIN</th>\n",
       "      <th>OCT-DEC MAX</th>\n",
       "    </tr>\n",
       "  </thead>\n",
       "  <tbody>\n",
       "    <tr>\n",
       "      <th>1</th>\n",
       "      <td>1901</td>\n",
       "      <td>20.55</td>\n",
       "      <td>30.29</td>\n",
       "      <td>15.11</td>\n",
       "      <td>25.1</td>\n",
       "      <td>21.99</td>\n",
       "      <td>33.29</td>\n",
       "      <td>24.32</td>\n",
       "      <td>32</td>\n",
       "      <td>17.73</td>\n",
       "      <td>28.48</td>\n",
       "    </tr>\n",
       "    <tr>\n",
       "      <th>2</th>\n",
       "      <td>1902</td>\n",
       "      <td>20.45</td>\n",
       "      <td>30.4</td>\n",
       "      <td>14.61</td>\n",
       "      <td>27.14</td>\n",
       "      <td>22.43</td>\n",
       "      <td>33.49</td>\n",
       "      <td>24.24</td>\n",
       "      <td>31.73</td>\n",
       "      <td>17.31</td>\n",
       "      <td>27.71</td>\n",
       "    </tr>\n",
       "    <tr>\n",
       "      <th>3</th>\n",
       "      <td>1903</td>\n",
       "      <td>20.13</td>\n",
       "      <td>29.88</td>\n",
       "      <td>14.3</td>\n",
       "      <td>25.68</td>\n",
       "      <td>21.33</td>\n",
       "      <td>32.72</td>\n",
       "      <td>24.37</td>\n",
       "      <td>31.64</td>\n",
       "      <td>17.16</td>\n",
       "      <td>27.51</td>\n",
       "    </tr>\n",
       "    <tr>\n",
       "      <th>4</th>\n",
       "      <td>1904</td>\n",
       "      <td>20.06</td>\n",
       "      <td>29.8</td>\n",
       "      <td>13.99</td>\n",
       "      <td>25.53</td>\n",
       "      <td>21.8</td>\n",
       "      <td>32.67</td>\n",
       "      <td>23.87</td>\n",
       "      <td>31.27</td>\n",
       "      <td>17.29</td>\n",
       "      <td>27.83</td>\n",
       "    </tr>\n",
       "    <tr>\n",
       "      <th>5</th>\n",
       "      <td>1905</td>\n",
       "      <td>20.01</td>\n",
       "      <td>29.66</td>\n",
       "      <td>12.98</td>\n",
       "      <td>23.73</td>\n",
       "      <td>21</td>\n",
       "      <td>31.75</td>\n",
       "      <td>24.47</td>\n",
       "      <td>31.93</td>\n",
       "      <td>17.76</td>\n",
       "      <td>28.49</td>\n",
       "    </tr>\n",
       "  </tbody>\n",
       "</table>\n",
       "</div>"
      ],
      "text/plain": [
       "   YEAR ANNUAL MIN ANNUAL MAX JAN-FEB MIN JAN-FEB MAX MAR-MAY MIN MAR-MAY MAX  \\\n",
       "1  1901      20.55      30.29       15.11        25.1       21.99       33.29   \n",
       "2  1902      20.45       30.4       14.61       27.14       22.43       33.49   \n",
       "3  1903      20.13      29.88        14.3       25.68       21.33       32.72   \n",
       "4  1904      20.06       29.8       13.99       25.53        21.8       32.67   \n",
       "5  1905      20.01      29.66       12.98       23.73          21       31.75   \n",
       "\n",
       "  JUN-SEP MIN JUN-SEP MAX OCT-DEC MIN OCT-DEC MAX  \n",
       "1       24.32          32       17.73       28.48  \n",
       "2       24.24       31.73       17.31       27.71  \n",
       "3       24.37       31.64       17.16       27.51  \n",
       "4       23.87       31.27       17.29       27.83  \n",
       "5       24.47       31.93       17.76       28.49  "
      ]
     },
     "execution_count": 5,
     "metadata": {},
     "output_type": "execute_result"
    }
   ],
   "source": [
    "#First 5 rows of the modified dataset\n",
    "dataset.head(5)"
   ]
  },
  {
   "cell_type": "markdown",
   "id": "e4785f73",
   "metadata": {},
   "source": [
    "# Formatting The Dataset"
   ]
  },
  {
   "cell_type": "markdown",
   "id": "61d4441d",
   "metadata": {},
   "source": [
    "## Dropping Null Values"
   ]
  },
  {
   "cell_type": "raw",
   "id": "f84783c8",
   "metadata": {},
   "source": [
    "There might be null values in this dataset. If the number of null values is less, we can just drop those rows. We can see below that only 4 rows have null values so let's drop these."
   ]
  },
  {
   "cell_type": "code",
   "execution_count": 6,
   "id": "88e8ee69",
   "metadata": {},
   "outputs": [
    {
     "data": {
      "text/html": [
       "<div>\n",
       "<style scoped>\n",
       "    .dataframe tbody tr th:only-of-type {\n",
       "        vertical-align: middle;\n",
       "    }\n",
       "\n",
       "    .dataframe tbody tr th {\n",
       "        vertical-align: top;\n",
       "    }\n",
       "\n",
       "    .dataframe thead th {\n",
       "        text-align: right;\n",
       "    }\n",
       "</style>\n",
       "<table border=\"1\" class=\"dataframe\">\n",
       "  <thead>\n",
       "    <tr style=\"text-align: right;\">\n",
       "      <th></th>\n",
       "      <th>YEAR</th>\n",
       "      <th>ANNUAL MIN</th>\n",
       "      <th>ANNUAL MAX</th>\n",
       "      <th>JAN-FEB MIN</th>\n",
       "      <th>JAN-FEB MAX</th>\n",
       "      <th>MAR-MAY MIN</th>\n",
       "      <th>MAR-MAY MAX</th>\n",
       "      <th>JUN-SEP MIN</th>\n",
       "      <th>JUN-SEP MAX</th>\n",
       "      <th>OCT-DEC MIN</th>\n",
       "      <th>OCT-DEC MAX</th>\n",
       "    </tr>\n",
       "  </thead>\n",
       "  <tbody>\n",
       "    <tr>\n",
       "      <th>122</th>\n",
       "      <td>NaN</td>\n",
       "      <td>NaN</td>\n",
       "      <td>NaN</td>\n",
       "      <td>NaN</td>\n",
       "      <td>NaN</td>\n",
       "      <td>NaN</td>\n",
       "      <td>NaN</td>\n",
       "      <td>NaN</td>\n",
       "      <td>NaN</td>\n",
       "      <td>NaN</td>\n",
       "      <td>NaN</td>\n",
       "    </tr>\n",
       "    <tr>\n",
       "      <th>123</th>\n",
       "      <td>NaN</td>\n",
       "      <td>NaN</td>\n",
       "      <td>NaN</td>\n",
       "      <td>NaN</td>\n",
       "      <td>NaN</td>\n",
       "      <td>NaN</td>\n",
       "      <td>NaN</td>\n",
       "      <td>NaN</td>\n",
       "      <td>NaN</td>\n",
       "      <td>NaN</td>\n",
       "      <td>NaN</td>\n",
       "    </tr>\n",
       "    <tr>\n",
       "      <th>124</th>\n",
       "      <td>NaN</td>\n",
       "      <td>ANNUAL</td>\n",
       "      <td>NaN</td>\n",
       "      <td>JAN-FEB</td>\n",
       "      <td>NaN</td>\n",
       "      <td>MAR-MAY</td>\n",
       "      <td>NaN</td>\n",
       "      <td>JUN-SEP</td>\n",
       "      <td>NaN</td>\n",
       "      <td>OCT-DEC</td>\n",
       "      <td>NaN</td>\n",
       "    </tr>\n",
       "    <tr>\n",
       "      <th>125</th>\n",
       "      <td>NaN</td>\n",
       "      <td>MIN</td>\n",
       "      <td>MAX</td>\n",
       "      <td>MIN</td>\n",
       "      <td>MAX</td>\n",
       "      <td>MIN</td>\n",
       "      <td>MAX</td>\n",
       "      <td>MIN</td>\n",
       "      <td>MAX</td>\n",
       "      <td>MIN</td>\n",
       "      <td>MAX</td>\n",
       "    </tr>\n",
       "  </tbody>\n",
       "</table>\n",
       "</div>"
      ],
      "text/plain": [
       "    YEAR ANNUAL MIN ANNUAL MAX JAN-FEB MIN JAN-FEB MAX MAR-MAY MIN  \\\n",
       "122  NaN        NaN        NaN         NaN         NaN         NaN   \n",
       "123  NaN        NaN        NaN         NaN         NaN         NaN   \n",
       "124  NaN     ANNUAL        NaN     JAN-FEB         NaN     MAR-MAY   \n",
       "125  NaN        MIN        MAX         MIN         MAX         MIN   \n",
       "\n",
       "    MAR-MAY MAX JUN-SEP MIN JUN-SEP MAX OCT-DEC MIN OCT-DEC MAX  \n",
       "122         NaN         NaN         NaN         NaN         NaN  \n",
       "123         NaN         NaN         NaN         NaN         NaN  \n",
       "124         NaN     JUN-SEP         NaN     OCT-DEC         NaN  \n",
       "125         MAX         MIN         MAX         MIN         MAX  "
      ]
     },
     "execution_count": 6,
     "metadata": {},
     "output_type": "execute_result"
    }
   ],
   "source": [
    "#Checking the dataset for null rows\n",
    "dataset[dataset.isnull().any(axis=1)]"
   ]
  },
  {
   "cell_type": "code",
   "execution_count": 7,
   "id": "a6574b53",
   "metadata": {},
   "outputs": [
    {
     "data": {
      "text/html": [
       "<div>\n",
       "<style scoped>\n",
       "    .dataframe tbody tr th:only-of-type {\n",
       "        vertical-align: middle;\n",
       "    }\n",
       "\n",
       "    .dataframe tbody tr th {\n",
       "        vertical-align: top;\n",
       "    }\n",
       "\n",
       "    .dataframe thead th {\n",
       "        text-align: right;\n",
       "    }\n",
       "</style>\n",
       "<table border=\"1\" class=\"dataframe\">\n",
       "  <thead>\n",
       "    <tr style=\"text-align: right;\">\n",
       "      <th></th>\n",
       "      <th>YEAR</th>\n",
       "      <th>ANNUAL MIN</th>\n",
       "      <th>ANNUAL MAX</th>\n",
       "      <th>JAN-FEB MIN</th>\n",
       "      <th>JAN-FEB MAX</th>\n",
       "      <th>MAR-MAY MIN</th>\n",
       "      <th>MAR-MAY MAX</th>\n",
       "      <th>JUN-SEP MIN</th>\n",
       "      <th>JUN-SEP MAX</th>\n",
       "      <th>OCT-DEC MIN</th>\n",
       "      <th>OCT-DEC MAX</th>\n",
       "    </tr>\n",
       "  </thead>\n",
       "  <tbody>\n",
       "  </tbody>\n",
       "</table>\n",
       "</div>"
      ],
      "text/plain": [
       "Empty DataFrame\n",
       "Columns: [YEAR, ANNUAL MIN, ANNUAL MAX, JAN-FEB MIN, JAN-FEB MAX, MAR-MAY MIN, MAR-MAY MAX, JUN-SEP MIN, JUN-SEP MAX, OCT-DEC MIN, OCT-DEC MAX]\n",
       "Index: []"
      ]
     },
     "execution_count": 7,
     "metadata": {},
     "output_type": "execute_result"
    }
   ],
   "source": [
    "#Dropping the rows with null values\n",
    "dataset = dataset.dropna()\n",
    "\n",
    "#Checking the dataset for null rows\n",
    "dataset[dataset.isnull().any(axis=1)]"
   ]
  },
  {
   "cell_type": "markdown",
   "id": "ba897ee0",
   "metadata": {},
   "source": [
    "## Checking Data Formats"
   ]
  },
  {
   "cell_type": "code",
   "execution_count": 8,
   "id": "883b48bf",
   "metadata": {},
   "outputs": [
    {
     "data": {
      "text/plain": [
       "YEAR           float64\n",
       "ANNUAL MIN     float64\n",
       "ANNUAL MAX     float64\n",
       "JAN-FEB MIN    float64\n",
       "JAN-FEB MAX    float64\n",
       "MAR-MAY MIN    float64\n",
       "MAR-MAY MAX    float64\n",
       "JUN-SEP MIN    float64\n",
       "JUN-SEP MAX    float64\n",
       "OCT-DEC MIN    float64\n",
       "OCT-DEC MAX    float64\n",
       "dtype: object"
      ]
     },
     "execution_count": 8,
     "metadata": {},
     "output_type": "execute_result"
    }
   ],
   "source": [
    "dataset.dtypes\n",
    "dataset = dataset.astype(float)\n",
    "dataset.dtypes"
   ]
  },
  {
   "cell_type": "markdown",
   "id": "5ae87e60",
   "metadata": {},
   "source": [
    "# Data Analysis"
   ]
  },
  {
   "cell_type": "code",
   "execution_count": 9,
   "id": "d9958b0d",
   "metadata": {},
   "outputs": [
    {
     "data": {
      "text/html": [
       "<div>\n",
       "<style scoped>\n",
       "    .dataframe tbody tr th:only-of-type {\n",
       "        vertical-align: middle;\n",
       "    }\n",
       "\n",
       "    .dataframe tbody tr th {\n",
       "        vertical-align: top;\n",
       "    }\n",
       "\n",
       "    .dataframe thead th {\n",
       "        text-align: right;\n",
       "    }\n",
       "</style>\n",
       "<table border=\"1\" class=\"dataframe\">\n",
       "  <thead>\n",
       "    <tr style=\"text-align: right;\">\n",
       "      <th></th>\n",
       "      <th>ANNUAL MIN</th>\n",
       "      <th>ANNUAL MAX</th>\n",
       "      <th>JAN-FEB MIN</th>\n",
       "      <th>JAN-FEB MAX</th>\n",
       "      <th>MAR-MAY MIN</th>\n",
       "      <th>MAR-MAY MAX</th>\n",
       "      <th>JUN-SEP MIN</th>\n",
       "      <th>JUN-SEP MAX</th>\n",
       "      <th>OCT-DEC MIN</th>\n",
       "      <th>OCT-DEC MAX</th>\n",
       "    </tr>\n",
       "  </thead>\n",
       "  <tbody>\n",
       "    <tr>\n",
       "      <th>count</th>\n",
       "      <td>121.000000</td>\n",
       "      <td>121.000000</td>\n",
       "      <td>121.000000</td>\n",
       "      <td>121.000000</td>\n",
       "      <td>121.000000</td>\n",
       "      <td>121.000000</td>\n",
       "      <td>121.000000</td>\n",
       "      <td>121.000000</td>\n",
       "      <td>121.000000</td>\n",
       "      <td>121.000000</td>\n",
       "    </tr>\n",
       "    <tr>\n",
       "      <th>mean</th>\n",
       "      <td>20.238347</td>\n",
       "      <td>30.370909</td>\n",
       "      <td>14.472066</td>\n",
       "      <td>26.328182</td>\n",
       "      <td>21.747355</td>\n",
       "      <td>33.209091</td>\n",
       "      <td>24.092645</td>\n",
       "      <td>31.684050</td>\n",
       "      <td>17.431322</td>\n",
       "      <td>28.478430</td>\n",
       "    </tr>\n",
       "    <tr>\n",
       "      <th>std</th>\n",
       "      <td>0.292527</td>\n",
       "      <td>0.422710</td>\n",
       "      <td>0.518915</td>\n",
       "      <td>0.680796</td>\n",
       "      <td>0.426448</td>\n",
       "      <td>0.567402</td>\n",
       "      <td>0.231253</td>\n",
       "      <td>0.420735</td>\n",
       "      <td>0.499051</td>\n",
       "      <td>0.565572</td>\n",
       "    </tr>\n",
       "    <tr>\n",
       "      <th>min</th>\n",
       "      <td>19.430000</td>\n",
       "      <td>29.230000</td>\n",
       "      <td>12.660000</td>\n",
       "      <td>23.730000</td>\n",
       "      <td>20.660000</td>\n",
       "      <td>31.670000</td>\n",
       "      <td>23.420000</td>\n",
       "      <td>30.650000</td>\n",
       "      <td>15.870000</td>\n",
       "      <td>27.090000</td>\n",
       "    </tr>\n",
       "    <tr>\n",
       "      <th>25%</th>\n",
       "      <td>20.080000</td>\n",
       "      <td>30.010000</td>\n",
       "      <td>14.200000</td>\n",
       "      <td>25.860000</td>\n",
       "      <td>21.420000</td>\n",
       "      <td>32.830000</td>\n",
       "      <td>23.960000</td>\n",
       "      <td>31.400000</td>\n",
       "      <td>17.120000</td>\n",
       "      <td>28.020000</td>\n",
       "    </tr>\n",
       "    <tr>\n",
       "      <th>50%</th>\n",
       "      <td>20.230000</td>\n",
       "      <td>30.360000</td>\n",
       "      <td>14.560000</td>\n",
       "      <td>26.290000</td>\n",
       "      <td>21.780000</td>\n",
       "      <td>33.230000</td>\n",
       "      <td>24.070000</td>\n",
       "      <td>31.680000</td>\n",
       "      <td>17.420000</td>\n",
       "      <td>28.480000</td>\n",
       "    </tr>\n",
       "    <tr>\n",
       "      <th>75%</th>\n",
       "      <td>20.440000</td>\n",
       "      <td>30.700000</td>\n",
       "      <td>14.810000</td>\n",
       "      <td>26.780000</td>\n",
       "      <td>22.040000</td>\n",
       "      <td>33.600000</td>\n",
       "      <td>24.240000</td>\n",
       "      <td>31.960000</td>\n",
       "      <td>17.760000</td>\n",
       "      <td>28.860000</td>\n",
       "    </tr>\n",
       "    <tr>\n",
       "      <th>max</th>\n",
       "      <td>20.900000</td>\n",
       "      <td>31.540000</td>\n",
       "      <td>15.540000</td>\n",
       "      <td>28.070000</td>\n",
       "      <td>22.960000</td>\n",
       "      <td>34.820000</td>\n",
       "      <td>24.660000</td>\n",
       "      <td>32.760000</td>\n",
       "      <td>18.580000</td>\n",
       "      <td>29.870000</td>\n",
       "    </tr>\n",
       "  </tbody>\n",
       "</table>\n",
       "</div>"
      ],
      "text/plain": [
       "       ANNUAL MIN  ANNUAL MAX  JAN-FEB MIN  JAN-FEB MAX  MAR-MAY MIN  \\\n",
       "count  121.000000  121.000000   121.000000   121.000000   121.000000   \n",
       "mean    20.238347   30.370909    14.472066    26.328182    21.747355   \n",
       "std      0.292527    0.422710     0.518915     0.680796     0.426448   \n",
       "min     19.430000   29.230000    12.660000    23.730000    20.660000   \n",
       "25%     20.080000   30.010000    14.200000    25.860000    21.420000   \n",
       "50%     20.230000   30.360000    14.560000    26.290000    21.780000   \n",
       "75%     20.440000   30.700000    14.810000    26.780000    22.040000   \n",
       "max     20.900000   31.540000    15.540000    28.070000    22.960000   \n",
       "\n",
       "       MAR-MAY MAX  JUN-SEP MIN  JUN-SEP MAX  OCT-DEC MIN  OCT-DEC MAX  \n",
       "count   121.000000   121.000000   121.000000   121.000000   121.000000  \n",
       "mean     33.209091    24.092645    31.684050    17.431322    28.478430  \n",
       "std       0.567402     0.231253     0.420735     0.499051     0.565572  \n",
       "min      31.670000    23.420000    30.650000    15.870000    27.090000  \n",
       "25%      32.830000    23.960000    31.400000    17.120000    28.020000  \n",
       "50%      33.230000    24.070000    31.680000    17.420000    28.480000  \n",
       "75%      33.600000    24.240000    31.960000    17.760000    28.860000  \n",
       "max      34.820000    24.660000    32.760000    18.580000    29.870000  "
      ]
     },
     "execution_count": 9,
     "metadata": {},
     "output_type": "execute_result"
    }
   ],
   "source": [
    "dataset.iloc[:,1:].describe()"
   ]
  },
  {
   "cell_type": "code",
   "execution_count": 10,
   "id": "fa5686ba",
   "metadata": {},
   "outputs": [
    {
     "data": {
      "text/plain": [
       "(1901.0, 2021.0)"
      ]
     },
     "execution_count": 10,
     "metadata": {},
     "output_type": "execute_result"
    },
    {
     "data": {
      "image/png": "[encoded data removed]",
      "text/plain": [
       "<Figure size 640x480 with 1 Axes>"
      ]
     },
     "metadata": {},
     "output_type": "display_data"
    }
   ],
   "source": [
    "plt.plot(dataset['YEAR'],dataset['ANNUAL MAX'])\n",
    "plt.ylim(0,50)\n",
    "plt.xlim(1901,2021)"
   ]
  },
  {
   "cell_type": "code",
   "execution_count": 11,
   "id": "8756e83d",
   "metadata": {},
   "outputs": [
    {
     "data": {
      "text/plain": [
       "(1901.0, 2021.0)"
      ]
     },
     "execution_count": 11,
     "metadata": {},
     "output_type": "execute_result"
    },
    {
     "data": {
      "image/png": "[encoded data removed]",
      "text/plain": [
       "<Figure size 640x480 with 1 Axes>"
      ]
     },
     "metadata": {},
     "output_type": "display_data"
    }
   ],
   "source": [
    "plt.plot(dataset['YEAR'],dataset['ANNUAL MAX'])\n",
    "# plt.ylim(20,30)\n",
    "plt.xlim(1901,2021)"
   ]
  },
  {
   "cell_type": "code",
   "execution_count": 12,
   "id": "cb3753c0",
   "metadata": {},
   "outputs": [
    {
     "name": "stdout",
     "output_type": "stream",
     "text": [
      "[9.95061645e-03 1.08577502e+01]\n"
     ]
    }
   ],
   "source": [
    "#slope of the line \n",
    "print(np.polyfit(dataset['YEAR'],dataset['ANNUAL MAX'],1))"
   ]
  },
  {
   "cell_type": "raw",
   "id": "5ef66d08",
   "metadata": {},
   "source": [
    "A slope greater than zero indicates that y increases as x increases.\n",
    "A slope less than zero indicates that y decreases as x increases.\n",
    "Zero slope indicates no change.\n",
    "\n",
    "In this case, we have a slope of 0.01. This indicates a positive yet small increase over time.\n",
    "Since we're talking about Annual temperature increases  -it is expected to increase or decrese by very small increments - should also mention that a small change here has much bigger impacts"
   ]
  },
  {
   "cell_type": "markdown",
   "id": "568ffb0a",
   "metadata": {},
   "source": [
    "# Modelling"
   ]
  },
  {
   "cell_type": "raw",
   "id": "68e196ba",
   "metadata": {},
   "source": [
    "Aim: Predict the increase in temeperature, a few decades down the line. \n",
    "\n",
    "Aim 2: Try predicing temperature down the line, accounting for seasons."
   ]
  },
  {
   "cell_type": "code",
   "execution_count": 13,
   "id": "63a2fec5",
   "metadata": {},
   "outputs": [
    {
     "data": {
      "image/png": "[encoded data removed]",
      "text/plain": [
       "<Figure size 640x480 with 1 Axes>"
      ]
     },
     "metadata": {},
     "output_type": "display_data"
    }
   ],
   "source": [
    "# Linear Regression\n",
    "\n",
    "dataset.sort_values(by='YEAR',inplace=True)\n",
    "\n",
    "X = dataset.iloc[:,0:1]\n",
    "y = dataset.iloc[:,2:3]\n",
    "\n",
    "from sklearn.model_selection import train_test_split\n",
    "X_train, X_test, y_train, y_test = train_test_split(X,y,test_size = 1/3,random_state=0, shuffle=False)\n",
    "\n",
    "from sklearn.linear_model import LinearRegression\n",
    "regressor = LinearRegression()\n",
    "regressor.fit(X_train, y_train)\n",
    "\n",
    "y_pred = regressor.predict(X_test)\n",
    "\n",
    "plt.scatter(X_train, y_train, color='red')\n",
    "# plt.plot(X_train, regressor.predict(X_train),color='blue')\n",
    "# plt.title('Temperature vs Years')\n",
    "# plt.xlabel('Years')\n",
    "# plt.ylabel('Temperature')\n",
    "# plt.show()\n",
    "\n",
    "plt.plot(X_train, y_train, color='red')\n",
    "plt.plot(X_test, y_test, color='red')\n",
    "plt.plot(X_test, regressor.predict(X_test),color='blue')\n",
    "plt.title('Temperature vs Years')\n",
    "plt.xlabel('Years')\n",
    "plt.ylabel('Temperature')\n",
    "plt.show()"
   ]
  },
  {
   "cell_type": "markdown",
   "id": "e28d3d4d",
   "metadata": {},
   "source": [
    "# Model Valudation"
   ]
  },
  {
   "cell_type": "raw",
   "id": "17aab38c",
   "metadata": {},
   "source": [
    "Mean absolute error: value ranges from zero to infinity. Zero indicates perfect predictions. It is the average of the difference between the predicted and actual values - basically the average of the errors \n",
    "\n",
    "Mean Squared Error: ranges from zero to infinity. zero indicates perfect prediction. Average of the squared differences between predicted and actual values. Lower the value, better the predictions. High MSE shows poor performance in handling outliers\n",
    "\n",
    "Root Mean Squared error: square root of MSE. follows MSE - can be used to compare models - the lower the better. if rmse is less than range - it is better, if more than range, it is worse"
   ]
  },
  {
   "cell_type": "code",
   "execution_count": 15,
   "id": "3e2e2a45",
   "metadata": {},
   "outputs": [
    {
     "name": "stdout",
     "output_type": "stream",
     "text": [
      "Mean Absolute Error: 0.18760585400157742\n",
      "Mean Squared Error: 0.06688714927333615\n",
      "Root Mean Squared Error: 0.2586255000446324\n",
      "R-squared: 0.14059394053355734\n"
     ]
    }
   ],
   "source": [
    "# Evaluate the model\n",
    "\n",
    "from sklearn import metrics\n",
    "print('Mean Absolute Error:', metrics.mean_absolute_error(y_test, y_pred))\n",
    "print('Mean Squared Error:', metrics.mean_squared_error(y_test, y_pred))\n",
    "print('Root Mean Squared Error:', np.sqrt(metrics.mean_squared_error(y_test, y_pred)))\n",
    "print('R-squared:', metrics.r2_score(y_test, y_pred))"
   ]
  },
  {
   "cell_type": "code",
   "execution_count": 24,
   "id": "95ed60bc",
   "metadata": {},
   "outputs": [
    {
     "data": {
      "text/plain": [
       "ANNUAL MAX    2.31\n",
       "dtype: float64"
      ]
     },
     "execution_count": 24,
     "metadata": {},
     "output_type": "execute_result"
    }
   ],
   "source": [
    "#Print Range of the target variable \n",
    "y.max() - y.min()"
   ]
  },
  {
   "cell_type": "markdown",
   "id": "e7293099",
   "metadata": {},
   "source": [
    "# Prediction"
   ]
  },
  {
   "cell_type": "code",
   "execution_count": 45,
   "id": "6af456e6",
   "metadata": {},
   "outputs": [
    {
     "data": {
      "image/png": "[encoded data removed]",
      "text/plain": [
       "<Figure size 640x480 with 1 Axes>"
      ]
     },
     "metadata": {},
     "output_type": "display_data"
    }
   ],
   "source": [
    "#Using the regression model to predict for the next one year\n",
    "# Linear Regression\n",
    "\n",
    "dataset.sort_values(by='YEAR',inplace=True)\n",
    "\n",
    "X = dataset.iloc[:,0:1]\n",
    "y = dataset.iloc[:,2:3]\n",
    "\n",
    "regressor = LinearRegression()\n",
    "regressor.fit(X, y)\n",
    "\n",
    "#Creating new years to predict\n",
    "test = pd.DataFrame({'YEAR': [2022,2023,2024,2025]})\n",
    "\n",
    "y_pred = regressor.predict(test)\n",
    "\n",
    "plt.plot(X, y, color='red')\n",
    "plt.plot(test, y_pred,color='blue')\n",
    "plt.title('Temperature vs Years')\n",
    "plt.xlabel('Years')\n",
    "plt.ylabel('Temperature')\n",
    "plt.show()"
   ]
  },
  {
   "cell_type": "code",
   "execution_count": null,
   "id": "4ac5e4dd",
   "metadata": {},
   "outputs": [],
   "source": []
  }
 ],
 "metadata": {
  "kernelspec": {
   "display_name": "Python 3 (ipykernel)",
   "language": "python",
   "name": "python3"
  },
  "language_info": {
   "codemirror_mode": {
    "name": "ipython",
    "version": 3
   },
   "file_extension": ".py",
   "mimetype": "text/x-python",
   "name": "python",
   "nbconvert_exporter": "python",
   "pygments_lexer": "ipython3",
   "version": "3.9.13"
  }
 },
 "nbformat": 4,
 "nbformat_minor": 5
}
